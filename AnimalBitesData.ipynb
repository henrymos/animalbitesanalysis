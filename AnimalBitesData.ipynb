{
 "cells": [
  {
   "cell_type": "code",
   "execution_count": 1,
   "metadata": {},
   "outputs": [],
   "source": [
    "import pandas as pd"
   ]
  },
  {
   "cell_type": "code",
   "execution_count": 2,
   "metadata": {},
   "outputs": [
    {
     "name": "stdout",
     "output_type": "stream",
     "text": [
      "done\n"
     ]
    }
   ],
   "source": [
    "import numpy as np \n",
    "import matplotlib.pyplot as plt \n",
    "print('done')"
   ]
  },
  {
   "cell_type": "code",
   "execution_count": 3,
   "metadata": {},
   "outputs": [
    {
     "name": "stdout",
     "output_type": "stream",
     "text": [
      "done\n"
     ]
    }
   ],
   "source": [
    "anim_bite = pd.read_csv('Health_AnimalBites.csv')\n",
    "print('done')"
   ]
  },
  {
   "cell_type": "code",
   "execution_count": 5,
   "metadata": {},
   "outputs": [
    {
     "data": {
      "text/html": [
       "<div>\n",
       "<style scoped>\n",
       "    .dataframe tbody tr th:only-of-type {\n",
       "        vertical-align: middle;\n",
       "    }\n",
       "\n",
       "    .dataframe tbody tr th {\n",
       "        vertical-align: top;\n",
       "    }\n",
       "\n",
       "    .dataframe thead th {\n",
       "        text-align: right;\n",
       "    }\n",
       "</style>\n",
       "<table border=\"1\" class=\"dataframe\">\n",
       "  <thead>\n",
       "    <tr style=\"text-align: right;\">\n",
       "      <th></th>\n",
       "      <th>bite_date</th>\n",
       "      <th>SpeciesIDDesc</th>\n",
       "      <th>BreedIDDesc</th>\n",
       "      <th>GenderIDDesc</th>\n",
       "      <th>color</th>\n",
       "      <th>vaccination_yrs</th>\n",
       "      <th>vaccination_date</th>\n",
       "      <th>victim_zip</th>\n",
       "      <th>AdvIssuedYNDesc</th>\n",
       "      <th>WhereBittenIDDesc</th>\n",
       "      <th>quarantine_date</th>\n",
       "      <th>DispositionIDDesc</th>\n",
       "      <th>head_sent_date</th>\n",
       "      <th>release_date</th>\n",
       "      <th>ResultsIDDesc</th>\n",
       "    </tr>\n",
       "  </thead>\n",
       "  <tbody>\n",
       "    <tr>\n",
       "      <th>0</th>\n",
       "      <td>1985-05-05 00:00:00</td>\n",
       "      <td>DOG</td>\n",
       "      <td>NaN</td>\n",
       "      <td>FEMALE</td>\n",
       "      <td>LIG. BROWN</td>\n",
       "      <td>1.0</td>\n",
       "      <td>1985-06-20 00:00:00</td>\n",
       "      <td>40229</td>\n",
       "      <td>NO</td>\n",
       "      <td>BODY</td>\n",
       "      <td>1985-05-05 00:00:00</td>\n",
       "      <td>UNKNOWN</td>\n",
       "      <td>NaN</td>\n",
       "      <td>NaN</td>\n",
       "      <td>UNKNOWN</td>\n",
       "    </tr>\n",
       "    <tr>\n",
       "      <th>1</th>\n",
       "      <td>1986-02-12 00:00:00</td>\n",
       "      <td>DOG</td>\n",
       "      <td>NaN</td>\n",
       "      <td>UNKNOWN</td>\n",
       "      <td>BRO &amp; BLA</td>\n",
       "      <td>NaN</td>\n",
       "      <td>NaN</td>\n",
       "      <td>40218</td>\n",
       "      <td>NO</td>\n",
       "      <td>BODY</td>\n",
       "      <td>1986-02-12 00:00:00</td>\n",
       "      <td>UNKNOWN</td>\n",
       "      <td>NaN</td>\n",
       "      <td>NaN</td>\n",
       "      <td>UNKNOWN</td>\n",
       "    </tr>\n",
       "    <tr>\n",
       "      <th>2</th>\n",
       "      <td>1987-05-07 00:00:00</td>\n",
       "      <td>DOG</td>\n",
       "      <td>NaN</td>\n",
       "      <td>UNKNOWN</td>\n",
       "      <td>NaN</td>\n",
       "      <td>NaN</td>\n",
       "      <td>NaN</td>\n",
       "      <td>40219</td>\n",
       "      <td>NO</td>\n",
       "      <td>BODY</td>\n",
       "      <td>1990-05-07 00:00:00</td>\n",
       "      <td>UNKNOWN</td>\n",
       "      <td>NaN</td>\n",
       "      <td>NaN</td>\n",
       "      <td>UNKNOWN</td>\n",
       "    </tr>\n",
       "    <tr>\n",
       "      <th>3</th>\n",
       "      <td>1988-10-02 00:00:00</td>\n",
       "      <td>DOG</td>\n",
       "      <td>NaN</td>\n",
       "      <td>MALE</td>\n",
       "      <td>BLA &amp; BRO</td>\n",
       "      <td>NaN</td>\n",
       "      <td>NaN</td>\n",
       "      <td>NaN</td>\n",
       "      <td>NO</td>\n",
       "      <td>BODY</td>\n",
       "      <td>1990-10-02 00:00:00</td>\n",
       "      <td>UNKNOWN</td>\n",
       "      <td>NaN</td>\n",
       "      <td>NaN</td>\n",
       "      <td>UNKNOWN</td>\n",
       "    </tr>\n",
       "    <tr>\n",
       "      <th>4</th>\n",
       "      <td>1989-08-29 00:00:00</td>\n",
       "      <td>DOG</td>\n",
       "      <td>NaN</td>\n",
       "      <td>FEMALE</td>\n",
       "      <td>BLK-WHT</td>\n",
       "      <td>NaN</td>\n",
       "      <td>NaN</td>\n",
       "      <td>NaN</td>\n",
       "      <td>NO</td>\n",
       "      <td>BODY</td>\n",
       "      <td>NaN</td>\n",
       "      <td>UNKNOWN</td>\n",
       "      <td>NaN</td>\n",
       "      <td>NaN</td>\n",
       "      <td>UNKNOWN</td>\n",
       "    </tr>\n",
       "  </tbody>\n",
       "</table>\n",
       "</div>"
      ],
      "text/plain": [
       "             bite_date SpeciesIDDesc BreedIDDesc GenderIDDesc       color  \\\n",
       "0  1985-05-05 00:00:00           DOG         NaN       FEMALE  LIG. BROWN   \n",
       "1  1986-02-12 00:00:00           DOG         NaN      UNKNOWN   BRO & BLA   \n",
       "2  1987-05-07 00:00:00           DOG         NaN      UNKNOWN         NaN   \n",
       "3  1988-10-02 00:00:00           DOG         NaN         MALE   BLA & BRO   \n",
       "4  1989-08-29 00:00:00           DOG         NaN       FEMALE     BLK-WHT   \n",
       "\n",
       "   vaccination_yrs     vaccination_date victim_zip AdvIssuedYNDesc  \\\n",
       "0              1.0  1985-06-20 00:00:00      40229              NO   \n",
       "1              NaN                  NaN      40218              NO   \n",
       "2              NaN                  NaN      40219              NO   \n",
       "3              NaN                  NaN        NaN              NO   \n",
       "4              NaN                  NaN        NaN              NO   \n",
       "\n",
       "  WhereBittenIDDesc      quarantine_date DispositionIDDesc head_sent_date  \\\n",
       "0              BODY  1985-05-05 00:00:00           UNKNOWN            NaN   \n",
       "1              BODY  1986-02-12 00:00:00           UNKNOWN            NaN   \n",
       "2              BODY  1990-05-07 00:00:00           UNKNOWN            NaN   \n",
       "3              BODY  1990-10-02 00:00:00           UNKNOWN            NaN   \n",
       "4              BODY                  NaN           UNKNOWN            NaN   \n",
       "\n",
       "  release_date ResultsIDDesc  \n",
       "0          NaN       UNKNOWN  \n",
       "1          NaN       UNKNOWN  \n",
       "2          NaN       UNKNOWN  \n",
       "3          NaN       UNKNOWN  \n",
       "4          NaN       UNKNOWN  "
      ]
     },
     "execution_count": 5,
     "metadata": {},
     "output_type": "execute_result"
    }
   ],
   "source": [
    "anim_bite.head()"
   ]
  }
 ],
 "metadata": {
  "kernelspec": {
   "display_name": "Python 3",
   "language": "python",
   "name": "python3"
  },
  "language_info": {
   "codemirror_mode": {
    "name": "ipython",
    "version": 3
   },
   "file_extension": ".py",
   "mimetype": "text/x-python",
   "name": "python",
   "nbconvert_exporter": "python",
   "pygments_lexer": "ipython3",
   "version": "3.8.5"
  }
 },
 "nbformat": 4,
 "nbformat_minor": 4
}
